{
 "cells": [
  {
   "cell_type": "code",
   "execution_count": 4,
   "id": "0dba4ca1-224e-4524-94c7-5dc072d33d99",
   "metadata": {},
   "outputs": [],
   "source": [
    "import pandas as pd\n",
    "\n",
    "df = pd.read_csv(\"ai_job_dataset.csv\")\n",
    "\n",
    "# Drop missing important fields\n",
    "df.dropna(subset=[\"job_title\", \"company_location\", \"salary_usd\"], inplace=True)\n",
    "\n",
    "# Remove duplicates\n",
    "df.drop_duplicates(inplace=True)\n",
    "\n",
    "# Clean skill names\n",
    "df[\"required_skills\"] = df[\"required_skills\"].str.strip().str.title()\n",
    "\n",
    "# Save cleaned data\n",
    "df.to_csv(\"jobs_cleaned.csv\", index=False)\n",
    "df.to_json(\"jobs_cleaned.json\", orient=\"records\")\n"
   ]
  },
  {
   "cell_type": "code",
   "execution_count": null,
   "id": "7eee235d-3318-427a-9bdf-018173e4f2d3",
   "metadata": {},
   "outputs": [],
   "source": []
  }
 ],
 "metadata": {
  "kernelspec": {
   "display_name": "Python [conda env:base] *",
   "language": "python",
   "name": "conda-base-py"
  },
  "language_info": {
   "codemirror_mode": {
    "name": "ipython",
    "version": 3
   },
   "file_extension": ".py",
   "mimetype": "text/x-python",
   "name": "python",
   "nbconvert_exporter": "python",
   "pygments_lexer": "ipython3",
   "version": "3.12.7"
  }
 },
 "nbformat": 4,
 "nbformat_minor": 5
}
